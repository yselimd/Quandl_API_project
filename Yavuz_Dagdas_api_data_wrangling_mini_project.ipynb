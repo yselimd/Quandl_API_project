{
 "cells": [
  {
   "cell_type": "markdown",
   "metadata": {},
   "source": [
    "This exercise will require you to pull some data from the Qunadl API. Qaundl is currently the most widely used aggregator of financial market data."
   ]
  },
  {
   "cell_type": "markdown",
   "metadata": {},
   "source": [
    "As a first step, you will need to register a free account on the http://www.quandl.com website."
   ]
  },
  {
   "cell_type": "markdown",
   "metadata": {},
   "source": [
    "After you register, you will be provided with a unique API key, that you should store:"
   ]
  },
  {
   "cell_type": "code",
   "execution_count": 1,
   "metadata": {},
   "outputs": [],
   "source": [
    "# Store the API key as a string - according to PEP8, constants are always named in all upper case\n",
    "API_KEY = ''"
   ]
  },
  {
   "cell_type": "markdown",
   "metadata": {},
   "source": [
    "Qaundl has a large number of data sources, but, unfortunately, most of them require a Premium subscription. Still, there are also a good number of free datasets."
   ]
  },
  {
   "cell_type": "markdown",
   "metadata": {},
   "source": [
    "For this mini project, we will focus on equities data from the Frankfurt Stock Exhange (FSE), which is available for free. We'll try and analyze the stock prices of a company called Carl Zeiss Meditec, which manufactures tools for eye examinations, as well as medical lasers for laser eye surgery: https://www.zeiss.com/meditec/int/home.html. The company is listed under the stock ticker AFX_X."
   ]
  },
  {
   "cell_type": "markdown",
   "metadata": {},
   "source": [
    "You can find the detailed Quandl API instructions here: https://docs.quandl.com/docs/time-series"
   ]
  },
  {
   "cell_type": "markdown",
   "metadata": {},
   "source": [
    "While there is a dedicated Python package for connecting to the Quandl API, we would prefer that you use the *requests* package, which can be easily downloaded using *pip* or *conda*. You can find the documentation for the package here: http://docs.python-requests.org/en/master/ "
   ]
  },
  {
   "cell_type": "markdown",
   "metadata": {},
   "source": [
    "Finally, apart from the *requests* package, you are encouraged to not use any third party Python packages, such as *pandas*, and instead focus on what's available in the Python Standard Library (the *collections* module might come in handy: https://pymotw.com/3/collections/ ).\n",
    "Also, since you won't have access to DataFrames, you are encouraged to us Python's native data structures - preferably dictionaries, though some questions can also be answered using lists.\n",
    "You can read more on these data structures here: https://docs.python.org/3/tutorial/datastructures.html"
   ]
  },
  {
   "cell_type": "markdown",
   "metadata": {},
   "source": [
    "Keep in mind that the JSON responses you will be getting from the API map almost one-to-one to Python's dictionaries. Unfortunately, they can be very nested, so make sure you read up on indexing dictionaries in the documentation provided above."
   ]
  },
  {
   "cell_type": "code",
   "execution_count": 2,
   "metadata": {},
   "outputs": [],
   "source": [
    "# First, import the relevant modules\n",
    "import requests\n",
    "import json"
   ]
  },
  {
   "cell_type": "code",
   "execution_count": 3,
   "metadata": {},
   "outputs": [
    {
     "name": "stderr",
     "output_type": "stream",
     "text": [
      "/Users/dagdasy/anaconda3/lib/python3.7/site-packages/urllib3/connectionpool.py:1020: InsecureRequestWarning: Unverified HTTPS request is being made to host 'www.quandl.com'. Adding certificate verification is strongly advised. See: https://urllib3.readthedocs.io/en/latest/advanced-usage.html#ssl-warnings\n",
      "  InsecureRequestWarning,\n"
     ]
    },
    {
     "name": "stdout",
     "output_type": "stream",
     "text": [
      "200\n"
     ]
    }
   ],
   "source": [
    "# Now, call the Quandl API and pull out a small sample of the data (only one day) to get a glimpse\n",
    "# into the JSON structure that will be returned\n",
    "\n",
    "\n",
    "url=\"https://www.quandl.com/api/v3/datasets/FSE/AFX_X/data.json?start_date=2011-08-16&end_date=2011-08-17\"+API_KEY\n",
    "r=requests.get(url, verify=False)\n",
    "print(r.status_code)"
   ]
  },
  {
   "cell_type": "code",
   "execution_count": 4,
   "metadata": {},
   "outputs": [
    {
     "name": "stdout",
     "output_type": "stream",
     "text": [
      "{'dataset_data': {'limit': None, 'transform': None, 'column_index': None, 'column_names': ['Date', 'Open', 'High', 'Low', 'Close', 'Change', 'Traded Volume', 'Turnover', 'Last Price of the Day', 'Daily Traded Units', 'Daily Turnover'], 'start_date': '2011-08-16', 'end_date': '2011-08-17', 'frequency': 'daily', 'data': [['2011-08-17', 14.4, 14.56, 14.23, 14.4, None, 65657.0, 948985.0, None, None, None], ['2011-08-16', 14.55, 14.72, 14.09, 14.36, None, 65765.0, 946253.0, None, None, None]], 'collapse': None, 'order': None}}\n"
     ]
    }
   ],
   "source": [
    "# Inspect the JSON structure of the object you created, and take note of how nested it is,\n",
    "# as well as the overall structure\n",
    "json_oneday=r.json()\n",
    "print(json_oneday)"
   ]
  },
  {
   "cell_type": "code",
   "execution_count": 5,
   "metadata": {},
   "outputs": [
    {
     "name": "stdout",
     "output_type": "stream",
     "text": [
      "json_oneday variable is a  <class 'dict'> \n",
      "\n",
      "The keys in json_oneday dictionary are:  dict_keys(['dataset_data']) \n",
      "\n",
      "The keys dataset_data dictionary are: dict_keys(['limit', 'transform', 'column_index', 'column_names', 'start_date', 'end_date', 'frequency', 'data', 'collapse', 'order']) \n",
      "\n",
      "Column names for the data are:  ['Date', 'Open', 'High', 'Low', 'Close', 'Change', 'Traded Volume', 'Turnover', 'Last Price of the Day', 'Daily Traded Units', 'Daily Turnover'] \n",
      "\n"
     ]
    }
   ],
   "source": [
    "# Type of json_oneday\n",
    "print('json_oneday variable is a ',type(json_oneday),'\\n')\n",
    "\n",
    "# Keys of jason_oneday dictionary\n",
    "print('The keys in json_oneday dictionary are: ',json_oneday.keys(),'\\n')\n",
    "\n",
    "#Looks like json_oneday is a nested dictionary. Let's look at the keys of 'dataset_data'\n",
    "print('The keys dataset_data dictionary are:', json_oneday['dataset_data'].keys(),'\\n')\n",
    "\n",
    "#Let's see what the column names are\n",
    "\n",
    "print('Column names for the data are: ', json_oneday['dataset_data']['column_names'],'\\n')\n",
    "\n",
    "\n"
   ]
  },
  {
   "cell_type": "code",
   "execution_count": 6,
   "metadata": {},
   "outputs": [
    {
     "name": "stdout",
     "output_type": "stream",
     "text": [
      "[['2011-08-17', 14.4, 14.56, 14.23, 14.4, None, 65657.0, 948985.0, None, None, None], ['2011-08-16', 14.55, 14.72, 14.09, 14.36, None, 65765.0, 946253.0, None, None, None]]\n"
     ]
    }
   ],
   "source": [
    "#I assume 'data' key contains the daily data for the column names.\n",
    "\n",
    "print(json_oneday['dataset_data']['data'])"
   ]
  },
  {
   "cell_type": "code",
   "execution_count": 7,
   "metadata": {},
   "outputs": [
    {
     "name": "stderr",
     "output_type": "stream",
     "text": [
      "/Users/dagdasy/anaconda3/lib/python3.7/site-packages/urllib3/connectionpool.py:1020: InsecureRequestWarning: Unverified HTTPS request is being made to host 'www.quandl.com'. Adding certificate verification is strongly advised. See: https://urllib3.readthedocs.io/en/latest/advanced-usage.html#ssl-warnings\n",
      "  InsecureRequestWarning,\n"
     ]
    },
    {
     "data": {
      "text/plain": [
       "requests.models.Response"
      ]
     },
     "execution_count": 7,
     "metadata": {},
     "output_type": "execute_result"
    }
   ],
   "source": [
    "#Q1. Collect data from the Franfurt Stock Exchange, for the ticker AFX_X, for the whole year 2017 \n",
    "# (keep in mind that the date format is YYYY-MM-DD).\n",
    "url=\"https://www.quandl.com/api/v3/datasets/FSE/AFX_X/data.json?start_date=2017-01-01&end_date=2017-12-31\"+API_KEY\n",
    "data_2017=requests.get(url, verify=False)\n",
    "type(data_2017)"
   ]
  },
  {
   "cell_type": "code",
   "execution_count": 8,
   "metadata": {},
   "outputs": [],
   "source": [
    "#Q2: 2. Convert the returned JSON object into a Python dictionary.\n",
    "\n",
    "data_2017=data_2017.json()\n"
   ]
  },
  {
   "cell_type": "markdown",
   "metadata": {},
   "source": [
    "data_2017 is a dictionary and within this dictionary there is another dictionary 'dataset_data'. When I look into the keys of 'dataset_data' dictionary I see various keys whose values are lists. For example, column_names contains the labels of columns within the data key. 'data' key contains list of lists that contains information such as  'Date', 'Open', 'High', 'Low', 'Close', 'Change', 'Traded Volume', 'Turnover', 'Last Price of the Day', 'Daily Traded Units', 'Daily Turnover' values for each day. To reach the Open price I need to select second element of the list."
   ]
  },
  {
   "cell_type": "code",
   "execution_count": 9,
   "metadata": {},
   "outputs": [
    {
     "name": "stdout",
     "output_type": "stream",
     "text": [
      "The highest opening price is:  53.11 \n",
      "\n",
      "The lowest opening price is:  34.0 \n",
      "\n"
     ]
    }
   ],
   "source": [
    "#Q3. Calculate what the highest and lowest opening prices were for the stock in this period.\n",
    "\n",
    "\n",
    "# I created an empty list that and append each opening price into that empty list. \n",
    "# I included data type clause since there were None values in the final list\n",
    "\n",
    "open_price=[]\n",
    "for i in range(len(data_2017['dataset_data']['data'])):\n",
    "    if type(data_2017['dataset_data']['data'][i][1])==float:\n",
    "        open_price.append(data_2017['dataset_data']['data'][i][1])\n",
    "    \n",
    "    \n",
    "print('The highest opening price is: ',max(open_price),'\\n')\n",
    "print('The lowest opening price is: ',min(open_price),'\\n')\n",
    "\n"
   ]
  },
  {
   "cell_type": "code",
   "execution_count": 10,
   "metadata": {},
   "outputs": [
    {
     "name": "stdout",
     "output_type": "stream",
     "text": [
      "The biggest daily change in the price is:  2.8100000000000023 \n",
      "\n"
     ]
    }
   ],
   "source": [
    "#Q4. What was the largest change in any one day (based on High and Low price)?\n",
    "\n",
    "# To obtain the largest change in any day I need to subtract Low price (3rd element) \n",
    "#from the High price (2nd element)\n",
    "# I will use the same method that I used for opening price\n",
    "\n",
    "\n",
    "daily_change=[]\n",
    "for i in range(len(data_2017['dataset_data']['data'])):\n",
    "    if type(data_2017['dataset_data']['data'][i][1])==float:\n",
    "        daily_change.append(data_2017['dataset_data']['data'][i][2]-data_2017['dataset_data']['data'][i][3])\n",
    "    \n",
    "print('The biggest daily change in the price is: ',max(daily_change),'\\n')\n",
    "\n"
   ]
  },
  {
   "cell_type": "code",
   "execution_count": 11,
   "metadata": {},
   "outputs": [
    {
     "name": "stdout",
     "output_type": "stream",
     "text": [
      "The largest change between any two days (based on Closing Price) is:  2.559999999999995\n"
     ]
    }
   ],
   "source": [
    "#Q5. What was the largest change between any two days (based on Closing Price)?\n",
    "\n",
    "# I subtracted the closing price value from the next day. \n",
    "# Even though the dates within the list is in reverse order since I take absolute value it would not make a problem.\n",
    "\n",
    "largest_change=[]\n",
    "for i in range(len(data_2017['dataset_data']['data'])-1):\n",
    "    if type(data_2017['dataset_data']['data'][i][4])==float:\n",
    "        largest_change.append(abs(data_2017['dataset_data']['data'][i][4]-data_2017['dataset_data']['data'][i+1][4]))\n",
    "    \n",
    "print('The largest change between any two days (based on Closing Price) is: ', max(largest_change))        \n",
    "    \n",
    "    \n",
    "    \n",
    "       "
   ]
  },
  {
   "cell_type": "code",
   "execution_count": 12,
   "metadata": {},
   "outputs": [
    {
     "name": "stdout",
     "output_type": "stream",
     "text": [
      "The average daily trading volume during this year is 89124.33725490196\n"
     ]
    }
   ],
   "source": [
    "#Q6. What was the average daily trading volume during this year?\n",
    "\n",
    "trading_volume=[]\n",
    "for i in range(len(data_2017['dataset_data']['data'])):\n",
    "    if type(data_2017['dataset_data']['data'][i][6])==float:\n",
    "        trading_volume.append(data_2017['dataset_data']['data'][i][6])\n",
    "\n",
    "print('The average daily trading volume during this year is', (sum(trading_volume)/len(trading_volume)))"
   ]
  },
  {
   "cell_type": "code",
   "execution_count": 13,
   "metadata": {},
   "outputs": [
    {
     "name": "stdout",
     "output_type": "stream",
     "text": [
      "The median of the trading volumne during this year is:  134965.0\n"
     ]
    }
   ],
   "source": [
    "#Q7. (Optional) What was the median trading volume during this year. \n",
    "#(Note: you may need to implement your own function for calculating the median.)\n",
    "\n",
    "def median_f(x):\n",
    "    # takes a list and copies it to a new one to prevent making changes to the original one.\n",
    "    new_x=x.copy()\n",
    "    n = len(new_x)\n",
    "    if len(new_x)%2==0:\n",
    "        return (new_x[n//2]+new_x[(n//2)-1])/2\n",
    "    else:\n",
    "        return new_x[(n-1)//2]\n",
    "print('The median of the trading volumne during this year is: ', median_f(trading_volume))"
   ]
  }
 ],
 "metadata": {
  "kernelspec": {
   "display_name": "Python 3",
   "language": "python",
   "name": "python3"
  },
  "language_info": {
   "codemirror_mode": {
    "name": "ipython",
    "version": 3
   },
   "file_extension": ".py",
   "mimetype": "text/x-python",
   "name": "python",
   "nbconvert_exporter": "python",
   "pygments_lexer": "ipython3",
   "version": "3.7.3"
  }
 },
 "nbformat": 4,
 "nbformat_minor": 2
}
